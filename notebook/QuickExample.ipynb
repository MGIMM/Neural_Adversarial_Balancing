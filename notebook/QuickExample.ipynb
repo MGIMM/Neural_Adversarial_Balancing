{
 "cells": [
  {
   "cell_type": "code",
   "execution_count": 1,
   "id": "34f9e6d3-bf71-4522-8de8-19da6d7ce9ca",
   "metadata": {},
   "outputs": [],
   "source": [
    "import torch\n",
    "from torch import nn\n",
    "import matplotlib.pyplot as plt\n",
    "from tqdm import tqdm\n",
    "import numpy as np\n",
    "from NeuralAdversarialBalancing import NeuralAdversarialBalancing as NAB\n",
    "\n",
    "%matplotlib inline"
   ]
  },
  {
   "cell_type": "markdown",
   "id": "db044bed-4a14-45cd-9d3a-e0477465ebca",
   "metadata": {},
   "source": [
    "## Generate synthetic data"
   ]
  },
  {
   "cell_type": "code",
   "execution_count": 2,
   "id": "dfe6fc38-e03b-4f91-85fc-c04f7e391ee4",
   "metadata": {},
   "outputs": [],
   "source": [
    "n = 500\n",
    "m = 500\n",
    "xi = torch.normal(mean = -1, std = 3, size = (n,1))\n",
    "xi_ring = torch.zeros(size = (m,1))\n",
    "for i in range(m):\n",
    "    if torch.rand(1).item()>0.3:\n",
    "        xi_ring[i,0] = torch.normal(mean = -4, std = 2, size = (1,)).item()\n",
    "    else:\n",
    "        xi_ring[i,0] = torch.normal(mean = 3, std = 0.2, size = (1,)).item()"
   ]
  },
  {
   "cell_type": "markdown",
   "id": "7e51c595-80bf-425c-90bb-31b931709f60",
   "metadata": {},
   "source": [
    "## Build Adversarial_Balancing class"
   ]
  },
  {
   "cell_type": "code",
   "execution_count": 3,
   "id": "d8232351-24bb-4e6a-ac94-3ab115a1ad3c",
   "metadata": {},
   "outputs": [],
   "source": [
    "AB = NAB(xi,xi_ring)"
   ]
  },
  {
   "cell_type": "markdown",
   "id": "5d40bbb0-652d-4f72-a8f1-2757048512b8",
   "metadata": {},
   "source": [
    "## Build Neural Networks\n",
    "\n",
    "We consider two densely connected ReLU networks with 2 hidden layer. \n",
    "\n",
    "Note that the IPM models requires double amounts of nodes in order to ensure a $L^2$ control of the associated Riesz representers by Neural-IPM. "
   ]
  },
  {
   "cell_type": "code",
   "execution_count": 4,
   "id": "b88cb6fc-01c9-4b15-8e1d-8019cea231a6",
   "metadata": {},
   "outputs": [],
   "source": [
    "class NeuralNetwork(nn.Module):\n",
    "    def __init__(self,input_dim = 1, num_nodes = 32):\n",
    "        super(NeuralNetwork, self).__init__()\n",
    "        self.flatten = nn.Flatten()\n",
    "        self.linear_relu_stack = nn.Sequential(\n",
    "            nn.Linear(input_dim, num_nodes),\n",
    "            nn.ReLU(),\n",
    "            nn.Linear(num_nodes, num_nodes),\n",
    "            nn.ReLU(),\n",
    "            nn.Linear(num_nodes, 1),\n",
    "        )\n",
    "\n",
    "    def forward(self, x):\n",
    "        x = self.flatten(x)\n",
    "        target = self.linear_relu_stack(x)\n",
    "        return target"
   ]
  },
  {
   "cell_type": "code",
   "execution_count": 5,
   "id": "10965db4-0551-4df1-a222-4155dc621c11",
   "metadata": {},
   "outputs": [],
   "source": [
    "num_nodes_IPM = 32\n",
    "model_IPM = NeuralNetwork(num_nodes = 2*num_nodes_IPM).to(AB.dev)\n",
    "model_reweighting = NeuralNetwork(num_nodes = num_nodes_IPM).to(AB.dev)"
   ]
  },
  {
   "cell_type": "markdown",
   "id": "0648156c-6a06-4d2f-8fed-2da8d871412f",
   "metadata": {},
   "source": [
    "### Build optimizers"
   ]
  },
  {
   "cell_type": "code",
   "execution_count": 6,
   "id": "7156d8ff-054c-480d-8a75-774e2718640c",
   "metadata": {},
   "outputs": [],
   "source": [
    "learning_rate = 0.001\n",
    "optimizer_IPM = torch.optim.Adam(model_IPM.parameters(), lr=learning_rate, betas=(0.9, 0.999), eps=1e-08, weight_decay=0, amsgrad=True)\n",
    "optimizer_reweighting = torch.optim.Adam(model_reweighting.parameters(), lr=learning_rate, betas=(0.9, 0.999), eps=1e-08, weight_decay=0, amsgrad=True)"
   ]
  },
  {
   "cell_type": "markdown",
   "id": "ed2b8c07-0a97-4708-9af1-ebf543578419",
   "metadata": {},
   "source": [
    "## Play the game"
   ]
  },
  {
   "cell_type": "code",
   "execution_count": 7,
   "id": "2222fb22-071f-4c98-af4d-6541927f3766",
   "metadata": {},
   "outputs": [
    {
     "name": "stderr",
     "output_type": "stream",
     "text": [
      "100%|████████████████████████████████████████████████████████████████████████████| 20000/20000 [05:28<00:00, 60.84it/s]"
     ]
    },
    {
     "name": "stdout",
     "output_type": "stream",
     "text": [
      "Done!\n"
     ]
    },
    {
     "name": "stderr",
     "output_type": "stream",
     "text": [
      "\n"
     ]
    }
   ],
   "source": [
    "epochs = 20000\n",
    "loss_trace = []\n",
    "# warming up\n",
    "for t in tqdm(range(epochs)):\n",
    "    current_test_loss = AB.train_loop(model_IPM = model_IPM,\n",
    "                                      model_reweighting = model_reweighting,\n",
    "                                      optimizer_IPM = optimizer_IPM,\n",
    "                                      optimizer_reweighting = optimizer_reweighting,\n",
    "                                      IPM_steps = 2,\n",
    "                                      reweight_steps = 2,\n",
    "                                      lambda_l2_weight = 1e2,\n",
    "                                      lambda_l2_IPM = 5e-4,)\n",
    "    loss_trace.append(current_test_loss.to(\"cpu\").detach().numpy())\n",
    "\n",
    "print(\"Done!\")"
   ]
  },
  {
   "cell_type": "code",
   "execution_count": 8,
   "id": "c9d0b01d-b1eb-4492-8f9f-981d8449eaa3",
   "metadata": {},
   "outputs": [
    {
     "data": {
      "text/plain": [
       "Text(0.5, 1.0, 'Gaming curve between the two players')"
      ]
     },
     "execution_count": 8,
     "metadata": {},
     "output_type": "execute_result"
    },
    {
     "data": {
      "image/png": "[encoded data removed]",
      "text/plain": [
       "<Figure size 864x576 with 1 Axes>"
      ]
     },
     "metadata": {
      "needs_background": "light"
     },
     "output_type": "display_data"
    }
   ],
   "source": [
    "plt.figure(figsize = (12,8))\n",
    "plt.plot(np.array(loss_trace))\n",
    "plt.title(\"Gaming curve between the two players\")"
   ]
  },
  {
   "cell_type": "code",
   "execution_count": 9,
   "id": "0873f448-d2d2-44ee-93ac-d4c810dbd4a6",
   "metadata": {},
   "outputs": [
    {
     "data": {
      "text/plain": [
       "<matplotlib.legend.Legend at 0x1d6940c5820>"
      ]
     },
     "execution_count": 9,
     "metadata": {},
     "output_type": "execute_result"
    },
    {
     "data": {
      "image/png": "[encoded data removed]",
      "text/plain": [
       "<Figure size 864x576 with 1 Axes>"
      ]
     },
     "metadata": {
      "needs_background": "light"
     },
     "output_type": "display_data"
    }
   ],
   "source": [
    "plt.figure(figsize = (12,8))\n",
    "plt.hist(AB.xi[:,0].to(\"cpu\").detach().numpy(), weights = model_reweighting(AB.xi).to(\"cpu\").detach().numpy(), alpha = 0.5, bins = 30, label =\"re-weighted source\")\n",
    "plt.hist(AB.xi_ring[:,0].to(\"cpu\").detach().numpy(), alpha = 0.5, bins = 30, label =\"target\")\n",
    "plt.hist(AB.xi[:,0].to(\"cpu\").detach().numpy(), alpha = 0.5, bins = 30, label =\"source\")\n",
    "plt.legend()"
   ]
  },
  {
   "cell_type": "code",
   "execution_count": 10,
   "id": "dda0f9f4-2888-4421-822f-e185fc78de61",
   "metadata": {},
   "outputs": [
    {
     "data": {
      "text/plain": [
       "tensor(0.8328, device='cuda:0', grad_fn=<MeanBackward0>)"
      ]
     },
     "execution_count": 10,
     "metadata": {},
     "output_type": "execute_result"
    }
   ],
   "source": [
    "model_reweighting(AB.xi).mean()"
   ]
  },
  {
   "cell_type": "code",
   "execution_count": 11,
   "id": "11b0fda5-30a4-45f3-a087-0e30b9aec19a",
   "metadata": {},
   "outputs": [
    {
     "data": {
      "text/plain": [
       "[<matplotlib.lines.Line2D at 0x1d6945050a0>]"
      ]
     },
     "execution_count": 11,
     "metadata": {},
     "output_type": "execute_result"
    },
    {
     "data": {
      "image/png": "[encoded data removed]",
      "text/plain": [
       "<Figure size 432x288 with 1 Axes>"
      ]
     },
     "metadata": {
      "needs_background": "light"
     },
     "output_type": "display_data"
    }
   ],
   "source": [
    "plt.plot(xi,model_IPM(AB.xi).to(\"cpu\").detach().numpy(), \"r.\")"
   ]
  },
  {
   "cell_type": "code",
   "execution_count": null,
   "id": "6570063d-fc21-4061-9be4-7cac103cae84",
   "metadata": {},
   "outputs": [],
   "source": []
  },
  {
   "cell_type": "code",
   "execution_count": null,
   "id": "8adaeaae-90d2-4b05-bd11-ff1c73638129",
   "metadata": {},
   "outputs": [],
   "source": []
  },
  {
   "cell_type": "code",
   "execution_count": null,
   "id": "7cf3816f-21ed-47b2-bf12-1cd1d1cb9948",
   "metadata": {},
   "outputs": [],
   "source": []
  },
  {
   "cell_type": "code",
   "execution_count": null,
   "id": "b55c7bb2-53a1-4003-ba9d-4f1038cad1a1",
   "metadata": {},
   "outputs": [],
   "source": []
  },
  {
   "cell_type": "code",
   "execution_count": null,
   "id": "2e2496b1-7428-4e88-9a53-4ab72f062115",
   "metadata": {},
   "outputs": [],
   "source": []
  }
 ],
 "metadata": {
  "kernelspec": {
   "display_name": "Python 3",
   "language": "python",
   "name": "python3"
  },
  "language_info": {
   "codemirror_mode": {
    "name": "ipython",
    "version": 3
   },
   "file_extension": ".py",
   "mimetype": "text/x-python",
   "name": "python",
   "nbconvert_exporter": "python",
   "pygments_lexer": "ipython3",
   "version": "3.8.8"
  }
 },
 "nbformat": 4,
 "nbformat_minor": 5
}
